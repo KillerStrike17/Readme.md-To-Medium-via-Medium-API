{
 "cells": [
  {
   "cell_type": "code",
   "execution_count": null,
   "metadata": {},
   "outputs": [],
   "source": [
    "from medium import Medium\n",
    "from github_scrapper import GithubScrapper\n",
    "import os\n",
    "from dotenv import load_dotenv\n",
    "\n",
    "load_dotenv()"
   ]
  },
  {
   "cell_type": "code",
   "execution_count": null,
   "metadata": {},
   "outputs": [],
   "source": [
    "m = Medium(os.environ['MEDIUM_TOKEN'])\n",
    "gs = GithubScrapper()"
   ]
  },
  {
   "cell_type": "markdown",
   "metadata": {},
   "source": [
    "## Notebook to Post"
   ]
  },
  {
   "cell_type": "code",
   "execution_count": null,
   "metadata": {},
   "outputs": [],
   "source": [
    "# url from github must be raw url\n",
    "notebook_url = \"<<RAW URL>>\"\n",
    "markdown_content = gs.notebook_url_to_markdown(notebook_url)"
   ]
  },
  {
   "cell_type": "code",
   "execution_count": null,
   "metadata": {},
   "outputs": [],
   "source": [
    "title = \"2nd Test Post\"\n",
    "content = markdown_content\n",
    "content_format = \"markdown\"\n",
    "tags = [\"test\", \"python\", \"medium\"]\n",
    "canonical_url = \"https://medium.com/@<USERNAME>\"\n",
    "publish_status = \"draft\"\n",
    "\n",
    "response = m.create_post(\n",
    "    title, content, content_format, tags, canonical_url, publish_status\n",
    ")\n",
    "response"
   ]
  },
  {
   "cell_type": "markdown",
   "metadata": {},
   "source": [
    "## Readme to Post"
   ]
  },
  {
   "cell_type": "code",
   "execution_count": null,
   "metadata": {},
   "outputs": [],
   "source": [
    "# url from github must be raw url\n",
    "notebook_url = \"<<RAW URL>>\"\n",
    "markdown_content = gs.get_readme(notebook_url)"
   ]
  },
  {
   "cell_type": "code",
   "execution_count": null,
   "metadata": {},
   "outputs": [],
   "source": [
    "title = \"2nd Test Post\"\n",
    "content = markdown_content\n",
    "content_format = \"markdown\"\n",
    "tags = [\"test\", \"python\", \"medium\"]\n",
    "canonical_url = \"https://medium.com/@<USERNAME>\"\n",
    "publish_status = \"draft\"\n",
    "\n",
    "response = m.create_post(\n",
    "    title, content, content_format, tags, canonical_url, publish_status\n",
    ")\n",
    "response"
   ]
  },
  {
   "cell_type": "code",
   "execution_count": null,
   "metadata": {},
   "outputs": [],
   "source": []
  }
 ],
 "metadata": {
  "kernelspec": {
   "display_name": "base",
   "language": "python",
   "name": "python3"
  },
  "language_info": {
   "codemirror_mode": {
    "name": "ipython",
    "version": 3
   },
   "file_extension": ".py",
   "mimetype": "text/x-python",
   "name": "python",
   "nbconvert_exporter": "python",
   "pygments_lexer": "ipython3",
   "version": "3.7.6"
  },
  "orig_nbformat": 4
 },
 "nbformat": 4,
 "nbformat_minor": 2
}
